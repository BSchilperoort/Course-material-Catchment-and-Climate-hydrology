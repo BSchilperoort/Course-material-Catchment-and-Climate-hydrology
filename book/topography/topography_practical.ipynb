{
 "cells": [
  {
   "cell_type": "markdown",
   "metadata": {},
   "source": [
    "<div style=\"background-color; color: black; width:95%; vertical-align: middle; padding:15px; margin: 10px; border-radius: 10px\">\n",
    "\n",
    "# Topography based models"
   ]
  },
  {
   "cell_type": "markdown",
   "metadata": {},
   "source": [
    "<div style=\"background-color; color: black; width:95%; vertical-align: middle; padding:15px; margin: 10px; border-radius: 10px\">\n",
    "\n",
    "## The Ourthe catchment\n",
    "\n",
    "We will focus specifically on the catchment of the Ourthe upstream of Tabreux (1600 km<sup>2</sup>). Both topography and geomorphology play an important role in the hydrological response of the Upper Ourthe catchment. The catchment is situated in the hilly plateaus of the Ardennes in the eastern part of Belgium \"a well-known area for those who followed Hydrogeology\" (Figure 1). The elevation of the catchment varies between 150 and 650 m above sea level. The soil mainly consists of sandstone, shale and limestone, which have been eroded by small river systems that drain into the river Meuse. The region can be characterized as mostly rain-fed with some snow during the winter period. This results in a highly variable runoff regime with low discharges in summer and high peaks in winter.\n"
   ]
  },
  {
   "cell_type": "markdown",
   "metadata": {},
   "source": [
    "<div style=\"background-color; color: black; width:95%; vertical-align: middle; padding:15px; margin: 10px; border-radius: 10px\">\n",
    "\n",
    "## Digital elevation models for hydrological applications\n",
    "\n",
    "The data and scripts can be found on Brightspace. Download and unzip. This will generate the folder ``topmodels``, containing the subdirectories ``R_scripts``, `DEM` and `Data`. \n",
    "\n",
    "\n",
    "### DEM\n",
    "\n",
    "The DEM you will use today was obtained by the Shuttle Radar Topography Mission (SRTM) which generated a near global elevation map. For Europe the resolution of this dataset is about 90 meter and can be downloaded from the internet (http://www2.jpl.nasa.gov/srtm/). Your DEM file is called ``ourthe_90m.asc`` and is located in the folder `DEM`. \n",
    "\n",
    "![a figure](../images/topomap.png)\n",
    "\n",
    "Figure 1: (Location of the Ardennes and a 200x200-km box with a topographic map, the main channel network (black), the Ourthe catchment boundary (white), the catchment outlet ($\\blacktriangle$), the meteorological station ($\\circ$), rain gauges (+) and weather radar ($\\bullet$).)\n",
    "\n",
    "---\n",
    "Open this file in Notepad and find out how this ASCII file is set up. What do the numbers in the big matrix mean?\n",
    "\n",
    "<details>\n",
    "  <summary>Show Answer</summary>\n",
    "  <span style=\"color:blue\">\n",
    " The elevation of each pixel.\n",
    "  </span>\n",
    "</details>\n",
    "\n",
    "---\n",
    "\n",
    "### Preprocessing\n",
    "\n",
    "Before you can use the DEM for hydrological applications, the DEM has to be preprocessed. In this preprocessing step, pits in the topography field are filled, flow directions are computed and contributing areas and slope gradients are computed.\n",
    "\n",
    "For this preprocessing, multiple GIS programs can be used (e.g. ArcGIS, SAGA GIS, GRASS). For this practical these preprocessing steps have already been performed using the TAUDEM package. TAUDEM is a terrain analysis package for ArcGIS developed by D.G. Tarboton of Utah State University. For more information concerning the specific aspects of TAUDEM, see _http://hydrology.usu.edu/taudem/taudem5.0/_ `index.html`. The following sections explain what happens during the preprocessing phase.\n",
    "\n",
    "#### Sink / pit filling\n",
    "\n",
    "The main assumptions behind spatial hydrological analyses is that water will flow from higher to lower cells. To obtain a continuous flow direction map, the lowest cell in a DEM should be situated at the boundary of a DEM. Unfortunately, local topography or erroneous measurements by the satellite can result in local depressions (also called sinks or pits). Because the cells surrounding the pits are higher in elevation, water will never flow out of them and will never reach the river. \n",
    "\n",
    "Although sinks may represent real terrain features, they hinder the analysis of drainage networks. Local depressions should therefore be filled before making a flow direction map. Using TAUDEM, the original DEM file ``ourthe_90m.asc`` was corrected for pits, resulting in a new DEM file ``ourthe_90mfel.asc``, which can also be found in the `DEM` folder.\n",
    "\n",
    "#### Flow direction, slope and contributing area\n",
    "\n",
    "There are many ways to compute flow directions. In this practical the simplest and oldest method will be applied: the D8 flow direction method. The elevation of each pixel is compared to the elevations of the 8~neighbouring cells and water will flow in the direction of the steepest descent:\n",
    "\n",
    "![a figure](../images/DEM_example.png)\n",
    "\n",
    "The flow directions are represented by numbers:\n",
    "\n",
    "![a figure](../images/D8_flow_directions.png)\n",
    "\n",
    "Boundary pixels for which no downstream direction could be obtained receive the value of $-1$. The output of this step was saved in the file `ourthe_90mp.asc`. Once these directions have been determined, TAUDEM immediately generates the file ``ourthe_90msd8.asc``, containing the local slopes for all pixels. From the flow direction map, the upstream area for each pixel can be computed. TAUDEM starts at the highest points of the DEM and moves downward. In ``ourthe_90mad8.asc`` the number of upstream pixels is given for each pixel.\n",
    "\n",
    "--- \n",
    "\n",
    "``ourthe_90mp.asc``, ``ourthe_90msd8.asc`` and ``ourthe_90mad8.asc`` in Notepad and try to understand what the numbers mean.\n",
    "\n",
    "---\n",
    "\n",
    "### R for DEM analyses\n",
    "\n",
    "After these preprocessing steps, R can be used for spatial hydrological analyses. Open RStudio and load the script ``topmodels.R``. Set the working directory and run the part under ``Getting started``.\n",
    "\n",
    "The folder ``R_scripts`` contains more scripts with functions used in the main R script ``topmodels.R`` (you don't have to open these scripts now):\n",
    "\n",
    "* g"
   ]
  },
  {
   "cell_type": "markdown",
   "metadata": {},
   "source": []
  }
 ],
 "metadata": {
  "language_info": {
   "name": "python"
  }
 },
 "nbformat": 4,
 "nbformat_minor": 2
}
