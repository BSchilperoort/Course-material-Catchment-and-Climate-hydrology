{
 "cells": [
  {
   "cell_type": "markdown",
   "metadata": {},
   "source": [
    "# Introduction to recession "
   ]
  },
  {
   "cell_type": "markdown",
   "metadata": {},
   "source": [
    "<div style=\"background-color; color: black; width:95%; vertical-align: middle; padding:15px; margin: 10px; border-radius: 10px\">\n",
    "\n",
    "During this practical, you will use the simple dynamical system approach to the Rietholzbach catchment. The aim is to find appropriate values for the recession coefficients, build a rainfall-runoff model and predict a discharge peak. At the end of the practical, we will compare and discuss the different predictions made by each group. Make sure you start with [Sec. 3.3.2.2](recession_practical.ipynb#discontinuous-recession-periods) at 10:30, [Sec. 3.3.3](recession_practical.ipynb#doing-hydrology-backward) at 11:15, [Sec. 3.3.4](recession_practical.ipynb#rainfall-runoff-modelling) at 11:45 and [Sec. 3.3.4.7](recession_practical.ipynb#final-assignment) at 12:15. \n",
    "\n",
    "</ol>\n",
    "</p>\n",
    "</div>"
   ]
  },
  {
   "cell_type": "markdown",
   "metadata": {},
   "source": [
    "<div style=\"background-color; color: black; width:95%; vertical-align: middle; padding:15px; margin: 10px; border-radius: 10px\">\n",
    "<p>\n",
    "\n",
    "## Theory recap\n",
    "\n",
    "The simple dynamical system approach (Kirchner, 2009) plays a central role in this practical, and therefore the principles are repeated in this section (largely copied from Brauer et al., 2013). \n",
    "\n",
    "\n",
    "For the relationship between discharge (Q) and storage (S),\n",
    "\n",
    "<a id=\"eq1\"></a>\n",
    "\n",
    "$$\n",
    "Q=f(S) \\qquad \\qquad \\qquad (1)\n",
    "$$ \n",
    "\n",
    "\n",
    "it is assumed that $f$ is a strictly monotonically increasing function (i.e.~no hysteresis), that all $Q$ originates from storage and that flow routes (e.g. groundwater flow, macropore flow, overland flow) are only related to catchment storage and not to rainfall intensity.\n",
    "\n",
    "Under these assumptions the sensitivity of $Q$ to changes in $S$, $f'(S)$, is expressed solely as a function of $Q$ through the so-called discharge sensitivity function $g(Q)$:\n",
    "\n",
    "<a id=\"eq2\"></a>\n",
    "\n",
    "$$\n",
    "g(Q) = \\frac{\\mathrm{d}Q}{\\mathrm{d}S}\\ \\qquad \\qquad \\qquad (2)\n",
    "$$\n",
    "\n",
    "\n",
    "This function expresses how sensitive discharge is to changes in catchment storage, or how much discharge will change when storage changes. When the numerator and denominator of the right-hand side are both divided by $\\mathrm{d}t$, and $\\mathrm{d}S/\\mathrm{d}t$ is replaced with the other terms of the water budget equation ($P - ET - Q$), the change of discharge over time can be computed as \n",
    "\n",
    "<a id=\"eq3\"></a>\n",
    "\n",
    "$$\n",
    "\\frac{\\mathrm{d}Q}{\\mathrm{d}t} = g(Q)~(P-ET-Q)\\  \\qquad \\qquad \\qquad (3)\n",
    "$$\n",
    "\n",
    "This implies that at a given _initial storage_, a certain change in storage (caused by $P$, $ET$ or $Q$) should always lead to the same discharge response, both in timing and magnitude.\n",
    "\n",
    "When $P=0$ and $ET=0$ (for instance during night-time hours), the sensitivity function $g(Q)$ can be obtained from data by plotting the recession rate $-\\mathrm{d}Q/\\mathrm{d}t$ against $Q$. In several studies power law relations between $Q$ and $-\\mathrm{d}Q/\\mathrm{d}t$ have been found (e.g. Brutsaert and Nieber, 1977): \n",
    "\n",
    "\n",
    "<a id=\"eq4\"></a>\n",
    "$$\n",
    "-\\frac{\\mathrm{d}Q}{\\mathrm{d}t} = g(Q) \\cdot Q = a \\cdot Q^{b} \\ , \\qquad \\qquad \\qquad (4)\n",
    "$$\n",
    "\n",
    "where $b=1$ corresponds to a linear reservoir. In case of a linear reservoir, the coefficient $a$ is often replaced by $1/k$. In this practical we will use the letters $a$ and $b$ for nonlinear reservoirs and $k$ for linear reservoirs. To obtain recession coefficients $a$ (or $k$) and $b$, you will use three techniques: two types of recession analysis [Sec. 3.3.2](recession_practical.ipynb#recession-analysis) and hydrograph fitting [Sec. 3.3.4](recession_practical.ipynb#rainfall-runoff-modelling). \n",
    "\n",
    "To simulate the streamflow hydrograph, substitute $g(Q)$ from [eq. 4]() ($a  Q^{b-1}$) in [eq. 3](#eq3):\n",
    "\n",
    "<a id=\"eq5\"></a>\n",
    "\n",
    "$$\n",
    "\\frac{\\mathrm{d}Q}{\\mathrm{d}t} = a \\cdot Q^{b-1}  \\cdot ( P-ET-Q )\\ . \\qquad \\qquad \\qquad (5)\n",
    "$$\n",
    "\n",
    "\n",
    "Because this equation can lead to numerical instabilities when integrated, eq.(\\ref{eq:modellin}) is solved in terms of the logarithm of $Q$:\n",
    "\n",
    "<a id=\"eq6\"></a>\n",
    "\n",
    "$$\n",
    "\\frac{\\mathrm{d}(\\ln Q)}{\\mathrm{d}t} = a \\cdot Q^{b-1}  \\cdot  \\left(\\frac{P-ET}{Q}-1 \\right)\\ . \\qquad \\qquad \\qquad (6)\n",
    "$$\n",
    "\n",
    "\n",
    "</ol>\n",
    "</p>\n",
    "</div>"
   ]
  },
  {
   "cell_type": "markdown",
   "metadata": {},
   "source": []
  }
 ],
 "metadata": {
  "kernelspec": {
   "display_name": "Python 3 (ipykernel)",
   "language": "python",
   "name": "python3"
  },
  "language_info": {
   "codemirror_mode": {
    "name": "ipython",
    "version": 3
   },
   "file_extension": ".py",
   "mimetype": "text/x-python",
   "name": "python",
   "nbconvert_exporter": "python",
   "pygments_lexer": "ipython3",
   "version": "3.12.4"
  }
 },
 "nbformat": 4,
 "nbformat_minor": 4
}
