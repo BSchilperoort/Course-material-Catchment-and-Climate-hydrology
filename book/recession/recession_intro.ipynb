{
 "cells": [
  {
   "cell_type": "markdown",
   "metadata": {},
   "source": [
    "# Introduction to recession "
   ]
  },
  {
   "cell_type": "markdown",
   "metadata": {},
   "source": [
    "<div style=\"background-color; color: black; width:95%; vertical-align: middle; padding:15px; margin: 10px; border-radius: 10px\">\n",
    "\n",
    "During this practical, you will use the simple dynamical system approach to the Rietholzbach catchment. The aim is to find appropriate values for the recession coefficients, build a rainfall-runoff model and predict a discharge peak. \n",
    "\n",
    "At the end of the practical, we will compare and discuss the different predictions made by each group. Make sure you start with [Sec. 3.3.2.2](recession_practical.ipynb#discontinuous-recession-periods) at 10:30, [Sec. 3.3.3](recession_practical.ipynb#doing-hydrology-backward) at 11:15, [Sec. 3.3.4](recession_practical.ipynb#rainfall-runoff-modelling) at 11:45 and [Sec. 3.3.4.7](recession_practical.ipynb#final-assignment) at 12:15. \n",
    "\n",
    "</ol>\n",
    "</p>\n",
    "</div>"
   ]
  },
  {
   "cell_type": "markdown",
   "metadata": {},
   "source": []
  }
 ],
 "metadata": {
  "kernelspec": {
   "display_name": "Python 3 (ipykernel)",
   "language": "python",
   "name": "python3"
  },
  "language_info": {
   "codemirror_mode": {
    "name": "ipython",
    "version": 3
   },
   "file_extension": ".py",
   "mimetype": "text/x-python",
   "name": "python",
   "nbconvert_exporter": "python",
   "pygments_lexer": "ipython3",
   "version": "3.12.4"
  }
 },
 "nbformat": 4,
 "nbformat_minor": 4
}
