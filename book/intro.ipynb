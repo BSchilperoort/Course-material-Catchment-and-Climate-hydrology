{
 "cells": [
  {
   "cell_type": "markdown",
   "metadata": {},
   "source": [
    "# Introduction to the course \"Course material Catchment and Climate hydrology\"\n",
    "\n",
    "The content of this course will be presented here. Information aboujt the sildes and practicals will be shared in this jupyterbook. "
   ]
  },
  {
   "cell_type": "markdown",
   "metadata": {},
   "source": []
  }
 ],
 "metadata": {
  "language_info": {
   "name": "python"
  }
 },
 "nbformat": 4,
 "nbformat_minor": 2
}
