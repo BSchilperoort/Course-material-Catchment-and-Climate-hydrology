{
 "cells": [
  {
   "cell_type": "markdown",
   "metadata": {},
   "source": [
    "# Introduction Synthesis assignment"
   ]
  },
  {
   "cell_type": "markdown",
   "metadata": {},
   "source": [
    "In the final week of the course, each individual student is expected to hand in a short synthesis report (max 2 page, including figures following a provided template) on an individual assignment building on the models, data, tools, skills and knowledge obtained during the first 5 practicals. This report will count  for 1/3 (33.3%) of the total mark.\n",
    "\n",
    "This is what this topic is about."
   ]
  },
  {
   "cell_type": "markdown",
   "metadata": {},
   "source": []
  }
 ],
 "metadata": {
  "language_info": {
   "name": "python"
  }
 },
 "nbformat": 4,
 "nbformat_minor": 2
}
