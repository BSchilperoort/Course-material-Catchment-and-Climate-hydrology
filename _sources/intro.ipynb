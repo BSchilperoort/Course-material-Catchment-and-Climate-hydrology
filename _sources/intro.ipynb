{
 "cells": [
  {
   "cell_type": "markdown",
   "metadata": {},
   "source": [
    "# Introduction to the course \"Course material Catchment and Climate hydrology\"\n",
    "\n",
    "The content of this course will be presented here. Information about the sildes and practicals will be shared using the jupyter book format.\n",
    "\n",
    "The following chapters are given by the university and are included: \n",
    "\n",
    "- Iceland Excursion\n",
    "- Lowlands\n",
    "  -  WALRUS practical: Book layout Version 1 \n",
    "- Recession\n",
    "  -  Book layout version 2\n",
    "- Snow ice\n",
    "- Soil moisture\n",
    "- Topography\n",
    "- Synthesis assignment\n",
    "\n",
    "\n",
    "Please note that not all the content have been updated in the jupyter book (JB), however the practical chapters from \"Lowlands\" and \"Recession\" has been somewhat converted and with different layouts in the JB environment. Can you let us know which layout you prefer for the rest of the book? \"Layout version 1\" or \"Layout version 2\"?\n",
    "\n",
    "\n",
    "Kind regards,\n",
    "Rolf, Bart, Ahmed, Ezzat"
   ]
  },
  {
   "cell_type": "markdown",
   "metadata": {},
   "source": []
  }
 ],
 "metadata": {
  "language_info": {
   "name": "python"
  }
 },
 "nbformat": 4,
 "nbformat_minor": 2
}
