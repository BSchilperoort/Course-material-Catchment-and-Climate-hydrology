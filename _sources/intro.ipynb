{
 "cells": [
  {
   "cell_type": "markdown",
   "metadata": {},
   "source": [
    "# Introduction to the course \"Course material Catchment and Climate hydrology\"\n",
    "\n",
    "The content of this course will be presented here. Information about the sildes and practicals will be shared using the jupyter book format.\n",
    "\n",
    "The following chapters are given by the university and are included: \n",
    "\n",
    "- Iceland Excursion\n",
    "- Lowlands\n",
    "  -  WALRUS practical: Book questions [Layout Version 1](lowlands_q3)\n",
    "- Recession\n",
    "  -  \"Recession based models\" Book questions [Layout Version 2](answer_large_k)\n",
    "- Snow ice \n",
    "- Soil moisture\n",
    "- Topography\n",
    "- Synthesis assignment\n",
    "\n",
    "\n",
    "Please note that not all the content have been updated in the jupyter book (JB), however the practical chapters from \"Lowlands\" and \"Recession\" has been somewhat converted and with different *question* layouts in the JB environment. Can you let us know which layout you prefer for the rest of the book? \"[Layout Version 1](lowlands_q3)\" or \"[Layout Version 2](answer_large_k)\"?\n",
    "\n",
    "\n",
    "Kind regards,\n",
    "Rolf, Bart, Ahmed, Ezzat"
   ]
  },
  {
   "cell_type": "markdown",
   "metadata": {},
   "source": []
  }
 ],
 "metadata": {
  "language_info": {
   "name": "python"
  }
 },
 "nbformat": 4,
 "nbformat_minor": 2
}
