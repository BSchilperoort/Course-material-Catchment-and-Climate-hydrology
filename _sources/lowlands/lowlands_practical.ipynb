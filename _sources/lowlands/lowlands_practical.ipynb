{
 "cells": [
  {
   "cell_type": "markdown",
   "metadata": {},
   "source": [
    "# WALRUS practical\n",
    "**(Wageningen Lowland Runoff Simulator)** </br>\n",
    "**PC practical Catchment and Climate Hydrology**"
   ]
  },
  {
   "cell_type": "markdown",
   "metadata": {},
   "source": [
    "*Note that the answers for this practical can be found [here](../zip_files/lowlands_scripts_with_answers.zip).*"
   ]
  },
  {
   "cell_type": "markdown",
   "metadata": {},
   "source": [
    "## Introduction\n",
    "\n",
    "This practical consists of four parts:\n",
    "\n",
    "-   **10:00**    Learn how to run WALRUS, look into the model structure and get a\n",
    "    feel for the effect of parameter values.\n",
    "\n",
    "-   **10:45**    Perform some case studies to experience how WALRUS can be used in\n",
    "    practice.\n",
    "\n",
    "-   **11:45**    Apply several techniques to obtain optimal parameter values for a\n",
    "    specific catchment.\n",
    "\n",
    "-   **12:30**    Predict a flood peak in the Bakelse Aa catchment using your\n",
    "    calibrated model (the final assignment).\n",
    "\n",
    "You don't have to do all exercises, but make sure you start with the\n",
    "four parts at approximately the appointed time. For every\n",
    "section/exercise there are separate scripts in the `scripts` folder.\n",
    "\n",
    "## Run WALRUS\n",
    "\n",
    "### Install packages\n",
    "\n",
    "Before you can run WALRUS, you should install the [WALRUS-package](../zip_files/lowlands_WALRUS4.zip) and the packages it requires. Open the script `install_WALRUS_packages.R` from the folder `scripts` in RStudio and run everything (for example by\n",
    "pressing `CTRL+SHIFT+S`). Make sure you don't get errors. Warnings are no problem.\n",
    "\n",
    "### Base script \n",
    "\n",
    "First you will run WALRUS in a basic application. Open the script\n",
    "`basic_example.R` in RStudio. This script is also discussed in Sec. 6.1\n",
    "of the user manual [@WALRUSmanual provided in the documentation-folder].\n",
    "Go through the script line by line, read the comments and look what\n",
    "happens.\n",
    "\n",
    "First, packages are loaded and data are read. In l. 30 you make the data\n",
    "suitable for the model using a special WALRUS-function. In the\n",
    "background, the time series are transformed into functions for\n",
    "cumulative rainfall, evapotranspiration, etc., which are necessary for\n",
    "the flexible time step approach. If you want to run WALRUS with a larger\n",
    "time step than the original data, you can increase `dt` (for example\n",
    "`dt=24` if you have hourly data and want to run WALRUS with a daily\n",
    "resolution).\n",
    "\n",
    "In l. 39--40 you give values for all parameters and catchment\n",
    "characteristics. You can supply initial values for states (i.e.\n",
    "groundwater depth -- `dG0`, storage deficit -- `dV0`, water level in the\n",
    "quickflow reservoir -- `hQ0` and/or surface water level -- `hS0`), but\n",
    "are not obliged to (see Sec. 6.3 in the manual for all options).\n",
    "\n",
    "In l. 48 the model is finally run. This can take a while, depending on\n",
    "the length of the modelled period, the step size and parameter values\n",
    "(one year with hourly values takes about 20 sec.). The name you give to\n",
    "a run (l. 56) is used to write data files and figures to file (l. 59).\n",
    "\n",
    "### Output\n",
    "\n",
    "During postprocessing, figures are made, the water budget is computed\n",
    "and files with model output are made. On the screen, the water balance\n",
    "(bottom left) and figures appear (bottom right). Look in the folders\n",
    "`output` and `figures` and open the exported files to see how they are\n",
    "set up (see Sec. 6.1 in the manual for explanation about the files).\n",
    "\n",
    "You can also use the output without postprocessing. This is especially\n",
    "useful during automatic calibration\n",
    "(Sec. [4](#sec:kal){reference-type=\"ref\" reference=\"sec:kal\"}), when you\n",
    "don't want to lose time making figures of intermediate results. Finally,\n",
    "you can use the output as input for another model (e.g. a hydrodynamic\n",
    "model such as SOBEK).\n",
    "\n",
    "To run WALRUS with data from another catchment, with another period of\n",
    "with other parameters, you can change the belonging line in the script.\n",
    "After that, you have to run WALRUS again of course (l. 48). Change the\n",
    "name of the run (l. 56) and/or save the script with another name."
   ]
  },
  {
   "cell_type": "markdown",
   "metadata": {},
   "source": [
    "### Understanding\n",
    "\n",
    "In this basic example, the Hupsel Brook catchment, some parameter values\n",
    "and a period of two months are selected. Look at what is plotted in the\n",
    "four panels (see Table 1 and the equations in [@Brauer2014a] for an\n",
    "overview of model variables and symbols). To get a first idea of the effect of parameter values, you can change them and look at the change in the plots of the time series. Also explain the changes with the model structure and equations. See the excersies below."
   ]
  },
  {
   "cell_type": "markdown",
   "metadata": {},
   "source": [
    "```{exercise-start}\n",
    ":label: lowlands_q1\n",
    "```\n",
    "Set $c_\\mathrm{Q}$ to 10 and later to 100 h (lines 39--40). </br>\n",
    "What happens to the shape of the discharge peaks? Explain this with equation 8 in [@Brauer2014a] and/or Figure 2.7 in the user manual (provided in the documentation subfolder).\n",
    "\n",
    "```{exercise-end}\n",
    "```\n",
    "\n"
   ]
  },
  {
   "cell_type": "markdown",
   "metadata": {},
   "source": [
    ":::{dropdown} Answer&nbsp;{ref}`lowlands_q1`\n",
    "Low values of $c_Q$ lead to sharp peaks. $c_Q$ is a linear reservoir constant ($f_QS$ = $h_Q$/$c_Q$), so the quickflow reservoir empties quickly if $c_Q$ is small.\n",
    ":::"
   ]
  },
  {
   "cell_type": "markdown",
   "metadata": {},
   "source": [
    "```{exercise-start}\n",
    ":label: lowlands_q2\n",
    "```\n",
    "Set $c_\\mathrm{W}$ to 100 and later to 200 mm. </br>\n",
    "What happens to the wetness index ($W$; the divider between slow and fast flow routes), the groundwater level and the discharge time series? Explain this with equation 1 and/or Fig. 2.2 in the user manual.\n",
    "\n",
    "```{exercise-end}\n",
    "```\n",
    "\n"
   ]
  },
  {
   "cell_type": "markdown",
   "metadata": {},
   "source": [
    ":::{dropdown} Answer&nbsp;{ref}`lowlands_q2`\n",
    "If $c_W$ is small, $W$ becomes zero at relatively low values of $d_V$, meaning that no rain will be led to the quickflow reservoir when the soil is still quite wet. With a small $c_W$, the discharge peaks are dampened (no contribution of quickflow), but the baseflow will increase. With a high $c_W$, discharge peaks are too high and sharp, but baseflow will decrease (no replenishing).\n",
    ":::"
   ]
  },
  {
   "cell_type": "markdown",
   "metadata": {},
   "source": [
    "```{exercise-start}\n",
    ":label: lowlands_q3\n",
    "```\n",
    "Set $c_\\mathrm{G}$ to $1\\times 10^6$ and later to $100\\times 10^6$ mm h. </br>\n",
    "What happens to the baseflow (discharge a long time after rainfall events), the groundwater level and groundwater drainage($f_\\mathrm{GS}$)? Explain this with equation 7 and/or Fig. 2.6 in the user manual.\n",
    "\n",
    "```{exercise-end}\n",
    "```\n",
    "\n"
   ]
  },
  {
   "cell_type": "markdown",
   "metadata": {},
   "source": [
    ":::{dropdown} Answer&nbsp;{ref}`lowlands_q3`\n",
    "A high $c_G$ leads to less baseflow ($f_GS$) at the same groundwater and surface water level, discharge drops farther after peaks and due to the small $f_GS$, the groundwater level rises more due to rainfall input than it drops due to drainage.\n",
    ":::"
   ]
  },
  {
   "cell_type": "markdown",
   "metadata": {},
   "source": [
    "```{exercise-start}\n",
    ":label: lowlands_q4\n",
    "```\n",
    "Set $c_\\mathrm{S}$ to 0.5 and later to 10. </br>\n",
    "What happens to the variation in the surface water level and groundwater drainage? Explain this with equation 9.\n",
    "```{exercise-end}\n",
    "```"
   ]
  },
  {
   "cell_type": "markdown",
   "metadata": {},
   "source": [
    ":::{dropdown} Answer&nbsp;{ref}`lowlands_q4`\n",
    "$c_S$ denotes the bankfull discharge (discharge when the surface water level is at soil surface). A large $c_S$ means that the channels can transport a lot of water, so a very large channel. To get the same change in discharge, less change in surface water level is needed in that case.\n",
    ":::"
   ]
  },
  {
   "cell_type": "markdown",
   "metadata": {},
   "source": [
    "```{exercise-start}\n",
    ":label: lowlands_q5\n",
    "```\n",
    "Set $c_\\mathrm{D}$ to 500 and later to 2500 mm. </br>\n",
    "What happens to the groundwater level, wetness index and the difference between potential and actual evapotranspiration (choose a summer period)?\n",
    "```{exercise-end}\n",
    "```"
   ]
  },
  {
   "cell_type": "markdown",
   "metadata": {},
   "source": [
    ":::{dropdown} Answer&nbsp;{ref}`lowlands_q5`\n",
    "When channels are deep (large $c_D$), groundwater has to become deeper to get the same drainage flux. When groundwater is deep, the top soil is dry. When the top soil is dry, evapotranspiration is reduced.\n",
    ":::"
   ]
  },
  {
   "cell_type": "markdown",
   "metadata": {},
   "source": [
    "### Change source files\n",
    "\n",
    "WALRUS is completely open source (under the GNU General Public Licence\n",
    "v3). This means that you can see and change all model code. However, it\n",
    "is important that, if you change model equations, you mention clearly\n",
    "what has been changed with regard to the original code to avoid\n",
    "confusion.\n",
    "\n",
    "The scripts that are combined into the package are given in the folder\n",
    "`source_files` [or in de folder `R` on the GitHub @WALRUS_GitHub]. You\n",
    "can open these scripts in R. The core of the code consists of two\n",
    "scripts: `WALRUS_loop.R` contains a loop which calls the script\n",
    "`WALRUS_step.R` (which contains the model equations) during every time\n",
    "step (with flexible size). Open the `step`-script to see how the\n",
    "equations from Table 1 in [@Brauer2014a] are converted into code.\n",
    "\n",
    "**BONUS** You can also change a function. Change the colour of one of\n",
    "the curves. Open the `figures`-script, rename the function (for\n",
    "example `WALRUS_figures2`), change a colour and run the function (or the\n",
    "whole script: `CTRL+SHIFT+S`). You also have to change the\n",
    "`postprocessing`-script in this way, to make sure that it calls the new\n",
    "function. It is possible that you need to load another package called\n",
    "`zoo`.\\\n",
    "\n",
    "## Case studies \n",
    "\n",
    "Try some of the case studies below (you don't have to do all), but make\n",
    "sure you start with Section [4](#sec:kal){reference-type=\"ref\"\n",
    "reference=\"sec:kal\"} no later than 11:45. There is an adapted version of\n",
    "the base script for each case study (mostly preprogrammed, but sometimes\n",
    "you have to change existing code).\n",
    "\n",
    "\n",
    "### Flood - Berkel\n",
    "\n",
    "The Berkel contains several discharge observation points in a row,\n",
    "leading to a chain of nested catchments [@Cluitmans2014; @TenBroek2014].\n",
    "In this case study, you will use the area between Lutum and Stadtlohn\n",
    "(catchment area\n",
    "$A$ = $A_\\mathrm{Stadtlohn}-A_\\mathrm{Lutum}$ = 231 $-$ 38 = 193 km$^2$).\n",
    "The discharge measured in Lutum is used in WALRUS as surface water\n",
    "supply ($f_\\mathrm{XS}$). To do this, this discharge (in m$^3$ s$^{-1}$)\n",
    "is converted to mm h$^{-1}$ by dividing by the catchment area (so the\n",
    "193 km$^2$), similar to the conversion for discharge ($Q$). In other\n",
    "words, the water flowing into the catchment is divided over the whole\n",
    "catchment.\n",
    "\n",
    "On 27 Augustus 2010 a series of storms passed over the Netherlands and\n",
    "Germany, leading to floods in many brooks and rivers (including the\n",
    "Hupsel Brook). The upstream part of the Berkel has also received much\n",
    "precipitation. Run the script and zoom in on the rainfall event\n",
    "(starting on 1 August). To investigate what would have happened if the\n",
    "catchment had been wetter initially, run the model with different\n",
    "initial groundwater depths `dG0`. See {numref}`fig:6sites` below. \n",
    "\n",
    "\n",
    "```{figure} ../images/WALRUS_6_test_sites.png\n",
    "---\n",
    "width: 800px\n",
    "align: center\n",
    "name: fig:6sites\n",
    "---\n",
    "WALRUS 6 test sites.\n",
    "``` "
   ]
  },
  {
   "cell_type": "markdown",
   "metadata": {},
   "source": [
    "```{exercise-start}\n",
    ":label: lowlands_q6\n",
    "```\n",
    "Give the peak discharge resulting from three initial groundwater depths\n",
    "(on 1 August).\\\n",
    "$d_\\mathrm{G,0}$ = 2400 mm: $d_\\mathrm{G,0}$ = 2000 mm:\n",
    "$d_\\mathrm{G,0}$ = 1500 mm: Look also at the contribution of the\n",
    "upstream part in the lower panel (blue dashed). What happens to the\n",
    "timing and shape of the discharge peak between Lutum and Stadtlohn for\n",
    "$d_{G,0}=2400$?\n",
    "\n",
    "```{exercise-end}\n",
    "```\n",
    "\n"
   ]
  },
  {
   "cell_type": "markdown",
   "metadata": {},
   "source": [
    ":::{dropdown} Answer&nbsp;{ref}`lowlands_q6`\n",
    "The discharge peak is dampened and delayed.\n",
    ":::"
   ]
  },
  {
   "cell_type": "markdown",
   "metadata": {},
   "source": [
    "```{exercise-start}\n",
    ":label: lowlands_q7\n",
    "```\n",
    "**BONUS** You can also change the initial values of the other state\n",
    "variables by setting `hQ0`, `hS0` and/or `dV0`. What happens if you\n",
    "increase `hS0`?\n",
    "\n",
    "```{exercise-end}\n",
    "```\n",
    "\n"
   ]
  },
  {
   "cell_type": "markdown",
   "metadata": {},
   "source": [
    ":::{dropdown} Answer&nbsp;{ref}`lowlands_q7`\n",
    "The initial surface water level and discharge are higher and subsequent discharge peaks are higher as well.\n",
    ":::"
   ]
  },
  {
   "cell_type": "markdown",
   "metadata": {},
   "source": [
    "### Water level management - Polder Cabauw\n",
    "\n",
    "The surface water level in Cabauw is managed by supplying water upstream\n",
    "and changing weir levels. Run the whole script to look at the output of\n",
    "one year. The dashed blue line in the bottom panel is the surface water\n",
    "supply.\n",
    "\n",
    "Look in the file with forcing data how information on the changes in\n",
    "weir level is communicated to the model."
   ]
  },
  {
   "cell_type": "markdown",
   "metadata": {},
   "source": [
    "```{exercise-start}\n",
    ":label: lowlands_q8\n",
    "```\n",
    "What does the column $hSmin$ signify?\n",
    "\n",
    "```{exercise-end}\n",
    "```"
   ]
  },
  {
   "cell_type": "markdown",
   "metadata": {},
   "source": [
    ":::{dropdown} Answer&nbsp;{ref}`lowlands_q8`\n",
    "Column $hSmin$ gives the distance between the channel bottom and weir level for each time step. The Q-h-relation (l. 39–51) uses that threshold in the discharge computation. You can also use this threshold to account for “dead storage” in a water course (standing water; there is water in the channel, but no discharge).\n",
    ":::"
   ]
  },
  {
   "cell_type": "markdown",
   "metadata": {},
   "source": [
    "Between 16 Nov. 2007 and 6 May 2008 the weir at the outlet was set to\n",
    "its winter level. Zoom in to this period by adjusting the start and end\n",
    "date and run the model again. It is probably necessary to change the\n",
    "initial groundwater level (`dG0`)."
   ]
  },
  {
   "cell_type": "markdown",
   "metadata": {},
   "source": [
    "```{exercise-start}\n",
    ":label: lowlands_q9\n",
    "```\n",
    "What causes discharge peaks in winter? And in summer?\n",
    "\n",
    "```{exercise-end}\n",
    "```"
   ]
  },
  {
   "cell_type": "markdown",
   "metadata": {},
   "source": [
    ":::{dropdown} Answer&nbsp;{ref}`lowlands_q9`\n",
    "In summer, discharge mostly responds to changes in surface water supply, while in winter discharge responds to rainfall.\n",
    ":::"
   ]
  },
  {
   "cell_type": "markdown",
   "metadata": {},
   "source": [
    "You can also use a conceptual rainfall-runoff model like WALRUS for\n",
    "scenario analyses. For example, you could ask the question \"what will\n",
    "happen to discharge and groundwater level when the supplied water volume\n",
    "would double or when the supply would be stopped?\".\n",
    "\n",
    "Make a copy of the forcing data frame, multiply the `fXS`-column by two\n",
    "and zero and save it with different names. Run the model with the\n",
    "different forcing and save the output with different names. For easy\n",
    "comparison, open all three written pdf figures, make them fullscreen and\n",
    "jump with `ALT+TAB` between the figures."
   ]
  },
  {
   "cell_type": "markdown",
   "metadata": {},
   "source": [
    "```{exercise-start}\n",
    ":label: lowlands_q10\n",
    "```\n",
    "How do discharge, groundwater level or one of the other model variables\n",
    "change between the scenarios?\n",
    "\n",
    "```{exercise-end}\n",
    "```"
   ]
  },
  {
   "cell_type": "markdown",
   "metadata": {},
   "source": [
    ":::{dropdown} Answer&nbsp;{ref}`lowlands_q10`\n",
    "Discharge is directly influenced by $f_{XS}$. The influence on groundwater level is less clear and depends on the parameter $c_G$. If $c_G$ is very large (as is the case in Cabauw), the groundwater level responds very slowly to changes in surface water level.\n",
    ":::"
   ]
  },
  {
   "cell_type": "markdown",
   "metadata": {},
   "source": [
    "### Upward seepage - Polder Oude Riet\n",
    "\n",
    "Upward seepage is an unknown term in many catchments, and increased by\n",
    "(naturally or anthropogenic) rise of levels outside the catchment. In\n",
    "the polder Oude Riet, seepage is a non-negligable term in the water\n",
    "budget.\n",
    "\n",
    "Note that the Oude Riet data are daily sums. In the Oude Riet polder,\n",
    "water is discharged by a pumping station, which causes the hourly\n",
    "discharge time series to be irregular, making it difficult to see the\n",
    "signal through the noise. For the base scenario, assume a fixed seepage\n",
    "flux. Estimate the seepage flux by closing the water budget (assuming no\n",
    "evapotranspiration reduction and storage change over the year). Add the\n",
    "seepage flux (in mm d$^{-1}$) to the forcing data frame in R. Compute\n",
    "two scenarios: without seepage and with twice as much seepage and\n",
    "compare these to the base scenario (jump between pdfs)."
   ]
  },
  {
   "cell_type": "markdown",
   "metadata": {},
   "source": [
    "```{exercise-start}\n",
    ":label: lowlands_q11\n",
    "```\n",
    "What happens to the groundwater level and discharge when you increase or\n",
    "decrease the seepage flux?\n",
    "\n",
    "```{exercise-end}\n",
    "```"
   ]
  },
  {
   "cell_type": "markdown",
   "metadata": {},
   "source": [
    ":::{dropdown} Answer&nbsp;{ref}`lowlands_q11`\n",
    "The soil becomes wetter (smaller $c_V$), evapotranspiration is less reduced and more water is led to the quickflow reservoir.\n",
    ":::"
   ]
  },
  {
   "cell_type": "markdown",
   "metadata": {},
   "source": [
    "```{exercise-start}\n",
    ":label: lowlands_q12\n",
    "```\n",
    "**BONUS** Compare the effect of upward seepage ($f_\\mathrm{XG}$) to\n",
    "surface water supply ($f_\\mathrm{XS}$)? In other words, run the model\n",
    "twice with the same inflow rate, but into different reservoirs.\n",
    "\n",
    "```{exercise-end}\n",
    "```"
   ]
  },
  {
   "cell_type": "markdown",
   "metadata": {},
   "source": [
    ":::{dropdown} Answer&nbsp;{ref}`lowlands_q12`\n",
    "Groundwater levels increase directly when $f_{XG}$ is increased, but there is a delay between change in $f_{XS}$ and groundwater level. Discharge responds more quickly to change in $f_{XS}$ than change in $f_{XG}$.\n",
    ":::"
   ]
  },
  {
   "cell_type": "markdown",
   "metadata": {},
   "source": [
    "### Snow - Reusel\n",
    "\n",
    "Snow is often neglected in the Netherlands, but snow accumulation and\n",
    "melt occur nearly every year and can lead to high discharges, especially\n",
    "in combination with rainfall. Here, you investigate the effect of the\n",
    "snow module [@Wendt2015] in the Reusel catchment [calibrated by\n",
    "@Loos2015a].\n",
    "\n",
    "Call the `WALRUS_snow`-function before the regular\n",
    "`preprocessing`-function to compute snow accumulation and melt, first\n",
    "using the degree hour factor method and later using the shortwave\n",
    "radiation factor method. Look in the help-function to see which\n",
    "arguments this function requires and what output it gives. Because the\n",
    "precipitation time series to be used as input for WALRUS has changed,\n",
    "you need to execute the preprocessing step again. Compute and plot three\n",
    "hydrographs (without snow module and with the two methods) in one\n",
    "figure. You can also compare the three saved pdf files."
   ]
  },
  {
   "cell_type": "markdown",
   "metadata": {},
   "source": [
    "```{exercise-start}\n",
    ":label: lowlands_q13\n",
    "```\n",
    "Which method performs best in your opinion? Why?\n",
    "\n",
    "```{exercise-end}\n",
    "```"
   ]
  },
  {
   "cell_type": "markdown",
   "metadata": {},
   "source": [
    ":::{dropdown} Answer&nbsp;{ref}`lowlands_q13`\n",
    "The radiation factor method causes the best timing of the discharge peak.\n",
    ":::"
   ]
  },
  {
   "cell_type": "markdown",
   "metadata": {},
   "source": [
    "```{exercise-start}\n",
    ":label: lowlands_q14\n",
    "```\n",
    "Would you recommend a snow module, and if so, which one?\n",
    "\n",
    "```{exercise-end}\n",
    "```"
   ]
  },
  {
   "cell_type": "markdown",
   "metadata": {},
   "source": [
    ":::{dropdown} Answer&nbsp;{ref}`lowlands_q14`\n",
    "In this case a snow module is helpful, but the radiation factor method does not perform much better than the degree hour method. The DHF method is to be preferred in most cases, because less data is needed.\n",
    ":::"
   ]
  },
  {
   "cell_type": "markdown",
   "metadata": {},
   "source": [
    "### Stage-discharge relation -- Hupsel Brook catchment\n",
    "\n",
    "In some catchments, the $Q$-$h$-relation of the outlet is known. At the\n",
    "outlet of the Hupsel Brook, for example, there is a well-calibrated\n",
    "flume. You can use the rating curve belonging to this flume in stead of\n",
    "the default $Q$-$h$-relation, which reduces the degree of freedom during\n",
    "calibration. It is possible, however, that the $Q$-$h$-relation at the\n",
    "outlet is not representative for the whole catchment.\n",
    "\n",
    "The stage-discharge relation for the Hupsel Brook is programmed in the\n",
    "script as a function (l. 39--54). The function requires the water level\n",
    "in mm as input and returns the discharge in mm h$^{-1}$ as answer (in\n",
    "WALRUS, everything is computed per unit of area). For flood situations,\n",
    "the rating curve is extrapolated above the weir.\n",
    "\n",
    "To use this relation in WALRUS, run l. 57 (if you want, you can check in\n",
    "l. 60 and 63 if it's implemented correctly) and use the same lines as\n",
    "the base script (parameter `cS` is not used now). Also run the last\n",
    "lines of the script to see the differences between the\n",
    "$Q$-$h$-relations."
   ]
  },
  {
   "cell_type": "markdown",
   "metadata": {},
   "source": [
    "```{exercise-start}\n",
    ":label: lowlands_q15\n",
    "```\n",
    "Compare the figure written to file to the one from the base script to\n",
    "see the effect of the rating curve. What happens to the shape of the\n",
    "discharge peaks?\n",
    "\n",
    "```{exercise-end}\n",
    "```"
   ]
  },
  {
   "cell_type": "markdown",
   "metadata": {},
   "source": [
    ":::{dropdown} Answer&nbsp;{ref}`lowlands_q15`\n",
    "The discharge remains more or less similar, because that is mostly influenced by the inflow to the channel (groundwater drainage and quickflow.\n",
    ":::"
   ]
  },
  {
   "cell_type": "markdown",
   "metadata": {},
   "source": [
    "```{exercise-start}\n",
    ":label: lowlands_q16\n",
    "```\n",
    "What happens to the dynamics of the surface water level?\n",
    "\n",
    "```{exercise-end}\n",
    "```"
   ]
  },
  {
   "cell_type": "markdown",
   "metadata": {},
   "source": [
    ":::{dropdown} Answer&nbsp;{ref}`lowlands_q16`\n",
    "For the same discharge, the water level needs to rise higher with the rating curve than with the default relation, causing larger fluctuations in surface water level and higher groundwater levels. You can of course change parameter $cS$ (the bankfull discharge– the discontinuity in the graph) to get a similar curve..\n",
    ":::"
   ]
  },
  {
   "cell_type": "markdown",
   "metadata": {},
   "source": [
    "```{exercise-start}\n",
    ":label: lowlands_q17\n",
    "```\n",
    "What happens to the distance between surface water level and groundwater level and what is the effect of this on groundwater drainage?\n",
    "\n",
    "```{exercise-end}\n",
    "```"
   ]
  },
  {
   "cell_type": "markdown",
   "metadata": {},
   "source": [
    ":::{dropdown} Answer&nbsp;{ref}`lowlands_q17`\n",
    "When surface water levels fluctuate more, the distance between surface water and groundwater becomes smaller during peak flows (surface water may even rise above the groundwater level), thereby limiting drainage (or even causing infiltration) and reducing flood peaks.\n",
    ":::"
   ]
  },
  {
   "cell_type": "markdown",
   "metadata": {},
   "source": [
    "## Calibration\n",
    "\n",
    "As you have seen, the influence of parameter values on model performance\n",
    "is very large. For a realistic model run, it is essential that the\n",
    "chosen parameter values are suitable for the catchment in question.\n",
    "Unfortunately, it is not easy to find those parameter values. For this\n",
    "exercise you will search for good parameter values for the catchment of\n",
    "the Bakelse Aa [@Slenters2014]. Scripts are available for guidance.\n",
    "\n",
    "You will also use this catchment also for the final assignment. Make\n",
    "sure you start with the final assignment no later than 12:30.\n",
    "\n",
    "### Manual calibration\n",
    "\n",
    "The most straightforward calibration method is manually. For the\n",
    "calibration procedure, you perform the following steps several times:\n",
    "adjust parameter values (l. 39--40), run (l. 48), and evaluate the\n",
    "output (l. 59). You do this until you are satisfied with the results.\n",
    "With some feeling for parameter values and by looking at time series of\n",
    "all model variables, you can steer WALRUS in the right direction.\n",
    "Sec. 7.1 of the WALRUS manual contains tips for calibration, attention\n",
    "points to and solutions for several problems. Which values did you find\n",
    "for:\\\n",
    "`cW`: `cG`: `cQ`: You can also change the soil type (`st`), channel\n",
    "depth (`cD`), fraction suface water (`aS`) or bankful discharge (`cS`).\n",
    "Usually, you base these values on catchment characterstics, but these\n",
    "estimates are uncertain. The model is usually not very sentitive to\n",
    "parameter `cV`, so this parameter is fixed here.\n",
    "\n",
    "### Automatic calibration\n",
    "\n",
    "Calibration can also be automated. There are many different calibration\n",
    "algorithms, often implemented in R packages. As an example, you use the\n",
    "relatively simple method of Levenberg-Marquardt here.\n",
    "\n",
    "Due to the limited time available during this practical, the chosen\n",
    "period is short and the period and the temporal resolution low. An\n",
    "additional preprocessing step (l. 32) produces a vector with observed\n",
    "discharges (`Qobs_forNS`), to which the modelled discharge will be\n",
    "compared.\n",
    "\n",
    "Provide initial values (where the calibration algorithm will start\n",
    "\"walking\" in the parameter space) and boundaries of realistic values for\n",
    "every parameter you want to calibrate (l. 44--46). Normalise the\n",
    "parameter values (with the values from l. 49), because it is beneficial\n",
    "for the calibration algorithm when all parameter values are in the same\n",
    "order of magnitude.\n",
    "\n",
    "A function has been built around the `WALRUS_loop` function (l. 53--60),\n",
    "for which the input is a parameter set (a vector, so not a data frame)\n",
    "and the output is a vector with residuals\n",
    "($Q_\\mathrm{obs}-Q_\\mathrm{mod}$). The sum of squares of these residuals\n",
    "is minimized during calibration. Test whether the starting values are\n",
    "realistic first (l. 63--76), because most calibration techniques\n",
    "(including the Levenberg-Marquardt algorithm) are sensitive to these\n",
    "starting values.\n",
    "\n",
    "Calling the function `nls.lm` starts the calibration with starting and\n",
    "end values, the adjusted model function and additional arguments for the\n",
    "calibration process (the maximum number of iterations is very low here).\n",
    "Calibrate WALRUS, retrieve the resulting parameter values (l. 87--93)\n",
    "and run the model once more with these values to save the results.\n",
    "\n",
    "Which values did you find for:\\\n",
    "`cW`: `cG`: `cQ`: If time allows, try starting with different values,\n",
    "using another period and/or another time step to assess the sensitivity\n",
    "of the found parameter values to the choices you made during\n",
    "calibration. Which other values did you find?\\\n",
    "`cW`: `cG`: `cQ`:\n",
    "\n",
    "### Sampling the parameter space\n",
    "\n",
    "A third option is to run the model with a large number of parameter\n",
    "sets. These parameters can be drawn randomly within a certain range\n",
    "(Monte Carlo) or sampled more cleverly to save computational time\n",
    "(e.g. Latin Hypercube Sampling). WALRUS has been run with 1000 random\n",
    "parameter sets for the Bakelse Aa catchment, using one year and hourly\n",
    "resolution. The code is provided in l. 39--68 (now commented). Because\n",
    "running this part takes quite long (5 hours on a regular pc), the result\n",
    "is provided. Open the file `pars_MC_BakelseAa.dat` from the\n",
    "`output`-folder in Notepad to look at the structure.\n",
    "\n",
    "Load this file in R (l. 75) and make dotty plots (l. 78--90). The dotty\n",
    "plots show how the model performance (in this case expressed as the sum\n",
    "of squares of the discharge residuals or the Kling-Gupta Efficiency)\n",
    "depends on the parameter values."
   ]
  },
  {
   "cell_type": "markdown",
   "metadata": {},
   "source": [
    "```{exercise-start}\n",
    ":label: lowlands_q18\n",
    "```\n",
    "For which parameter(s) can you point out a range of good parameter values based on the sum of squares. And based on the Kling-Gupta Efficiency?\n",
    "\n",
    "```{exercise-end}\n",
    "```"
   ]
  },
  {
   "cell_type": "markdown",
   "metadata": {},
   "source": [
    ":::{dropdown} Answer&nbsp;{ref}`lowlands_q18`\n",
    "A minimum can clearly be seen for $c_G$, but this is less clear for the other parameter values.\n",
    ":::"
   ]
  },
  {
   "cell_type": "markdown",
   "metadata": {},
   "source": [
    "```{exercise-start}\n",
    ":label: lowlands_q19\n",
    "```\n",
    "What can you learn about equifinality from the dotty plot?\n",
    "\n",
    "```{exercise-end}\n",
    "```"
   ]
  },
  {
   "cell_type": "markdown",
   "metadata": {},
   "source": [
    ":::{dropdown} Answer&nbsp;{ref}`lowlands_q19`\n",
    "If there is no clear optimum, good results can be obtained with different combinations of parameters.\n",
    ":::"
   ]
  },
  {
   "cell_type": "markdown",
   "metadata": {},
   "source": [
    "Select from these 1000 parameter sets the best 10 (the sum of squares\n",
    "(`SS`) is below the 0.1$^\\mathsf{th}$ percentile; l. 87) and save\n",
    "(l. 90). Run WALRUS with these 10 parameter sets, save the modelled\n",
    "discharge in a collection matrix (l. 97--119) and plot this\n",
    "(l. 126-136). The spread of the blue lines gives an indication of the\n",
    "uncertainty in the modelled discharge caused by uncertainty in parameter\n",
    "values."
   ]
  },
  {
   "cell_type": "markdown",
   "metadata": {},
   "source": [
    "```{exercise-start}\n",
    ":label: lowlands_q20\n",
    "```\n",
    "When is the parameter uncertainty large?\n",
    "\n",
    "```{exercise-end}\n",
    "```"
   ]
  },
  {
   "cell_type": "markdown",
   "metadata": {},
   "source": [
    ":::{dropdown} Answer&nbsp;{ref}`lowlands_q20`\n",
    "During high flow situations.\n",
    ":::"
   ]
  },
  {
   "cell_type": "markdown",
   "metadata": {},
   "source": [
    "\n",
    "\n",
    "## Final assignment\n",
    "\n",
    "Today, you will use those time series to simulate a flood wave that\n",
    "occurred after 18 August 2011 (hindcasting). Run WALRUS with different\n",
    "parameters and different initial conditions, leading to a different\n",
    "collection of time series for each group. Collect the computed discharge\n",
    "from different runs as columns in a matrix. You now have an ensemble of\n",
    "forecasts. Compute the 25th, 50th and 75th percentile of the ensemble\n",
    "and cut out the values on 18, 19 and 20 August (so 3 time series with\n",
    "72 values). Save the output to your clipboard (preprogrammed) and paste\n",
    "it in Google Sheets before 13:00. We will discuss the results at 13:05.\n",
    "\n",
    "When did the flood peak occur based on the multi-run median?\\\n",
    "What were the 25th, 50th and 75th discharge percentile for that hour?\\\n",
    "\n",
    "## References\n",
    "\n",
    "1. Brauer, C. C., 2022. Home page for WALRUS. URL `github.com/ClaudiaBrauer/WALRUS`\n",
    "\n",
    "2. Brauer, C. C., Teuling, A. J., Torfs, P. J. J. F., Uijlenhoet, R., 2014a. The Wageningen Lowland Runoff Simulator (WALRUS): a lumped rainfall-runoff model for catchments with shallow groundwater. Geosci. Model Dev. 7, 2313--2332.\n",
    "\n",
    "3. Brauer, C. C., Torfs, P. J. J. F., Teuling, A. J., Uijlenhoet, R., 2014b. The Wageningen Lowland Runoff Simulator (WALRUS): application to the Hupsel Brook catchment and Cabauw polder. Hydrol. Earth Syst. Sci. 18, 4007--4028.\n",
    "\n",
    "4. Brauer, C. C., Torfs, P. J. J. F., Teuling, A. J., Uijlenhoet, R., 2 February 2018. The Wageningen Lowland Runoff Simulator (WALRUS): User manual. Wageningen University, Version 1.10.\n",
    "\n",
    "5. Cluitmans, C. N. M., 2014. To identify and validate techniques for the identification of optimal parameter-sets for WALRUS in different catchments in The Netherlands. Master's thesis, Wageningen University.\n",
    "\n",
    "6. Loos, R. E., 2015. Making WALRUS applicable for large catchments: a case study in the Reusel catchment. Master's thesis, Wageningen University.\n",
    "\n",
    "7. Slenters, V., 2014. WALRUS en WINFO: het simuleren van afvoeren voor een nieuw voorwaarschuwingssysteem. Internship report (at Water Board Aa and Maas), Wageningen University.\n",
    "\n",
    "8. Ten Broek, J. M., 2014. Coupling WALRUS to SOBEK: Wageningen Lowland Runoff Simulator to 1D open water model. Internship report (at Water Board Rijn and IJssel), Wageningen University.\n",
    "\n",
    "9. Wendt, D. E., 2015. Snow hydrology in the Netherlands: Developing snowmelt algorithms for Dutch regional water management modules. Internship report (at HKV), Wageningen University."
   ]
  },
  {
   "cell_type": "markdown",
   "metadata": {},
   "source": []
  }
 ],
 "metadata": {
  "kernelspec": {
   "display_name": "Python 3",
   "language": "python",
   "name": "python3"
  },
  "language_info": {
   "name": "python",
   "version": "3.11.2"
  }
 },
 "nbformat": 4,
 "nbformat_minor": 2
}
