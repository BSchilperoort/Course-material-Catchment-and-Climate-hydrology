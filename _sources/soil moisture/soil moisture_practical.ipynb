{
 "cells": [
  {
   "cell_type": "markdown",
   "metadata": {},
   "source": [
    "# Climate and the local water balance"
   ]
  },
  {
   "cell_type": "markdown",
   "metadata": {},
   "source": [
    "here the practical consists of two simplified models. One of the models is coded using R language. "
   ]
  },
  {
   "cell_type": "markdown",
   "metadata": {},
   "source": []
  }
 ],
 "metadata": {
  "language_info": {
   "name": "python"
  }
 },
 "nbformat": 4,
 "nbformat_minor": 2
}
