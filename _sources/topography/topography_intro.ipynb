{
 "cells": [
  {
   "cell_type": "markdown",
   "metadata": {},
   "source": [
    "# Introduction to Topography"
   ]
  },
  {
   "cell_type": "markdown",
   "metadata": {},
   "source": [
    "<div style=\"background-color; color: black; width:95%; vertical-align: middle; padding:15px; margin: 10px; border-radius: 10px\">\n",
    "<p>\n",
    "\n",
    "## Introduction\n",
    "\n",
    "This practical focuses on the importance of the catchment geomorphology for the catchment response to rainfall. Digital elevation models (DEMs) are relatively easily available (compared to e.g. soil maps or the location of river branches) and are often used as a first tool to characterize catchments. A detailed analysis of a digital elevation model will give a first idea of how the discharge will respond to rainfall events. \n",
    "\n",
    "You don't have to do all exercises, but make sure you start with the Sec.~5 at approximately 11:30, Sec.~6 at 12:00 and the final assignment at 12:30. We discuss the results at 13.05..\n"
   ]
  },
  {
   "cell_type": "markdown",
   "metadata": {},
   "source": []
  }
 ],
 "metadata": {
  "language_info": {
   "name": "python"
  }
 },
 "nbformat": 4,
 "nbformat_minor": 2
}
